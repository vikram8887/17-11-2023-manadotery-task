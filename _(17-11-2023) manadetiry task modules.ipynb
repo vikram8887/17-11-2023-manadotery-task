{
 "cells": [
  {
   "cell_type": "markdown",
   "id": "6afe0db9",
   "metadata": {},
   "source": [
    "# Packages"
   ]
  },
  {
   "cell_type": "markdown",
   "id": "4b1be6b7",
   "metadata": {},
   "source": [
    "*  The Function concept is used for Performing some operation and provides code re-usability within the same program and unable to provide code re-usability across programs."
   ]
  },
  {
   "cell_type": "markdown",
   "id": "14d4686a",
   "metadata": {},
   "source": [
    "*  Python modules may contain several classes, functions, variables, etc. whereas Python packages contain several modules.\n",
    "*  In simpler terms, Package in Python is a folder that contains various modules as files."
   ]
  },
  {
   "cell_type": "markdown",
   "id": "cb57986e",
   "metadata": {},
   "source": [
    "* The purpose of Packages is that to provide code re-usability across the folders / drives / enviroments."
   ]
  },
  {
   "cell_type": "markdown",
   "id": "f5e6788e",
   "metadata": {},
   "source": [
    "### To deal with the package, we need to the learn the following.\n",
    "\n",
    "#### a. create a package\n",
    "\n",
    "#### b. re-use the package"
   ]
  },
  {
   "cell_type": "markdown",
   "id": "0dcc36ea",
   "metadata": {},
   "source": [
    "### a. create a package"
   ]
  },
  {
   "cell_type": "markdown",
   "id": "a59c5675",
   "metadata": {},
   "source": [
    "To create a package, we use the following steps. \n",
    "\n",
    "i) create a Folder \n",
    "\n",
    "ii) place / write an empty python file called init.py (Optional)\n",
    "\n",
    "iii) place / write the module(s) in the folder where it is considered as Package Name"
   ]
  },
  {
   "cell_type": "markdown",
   "id": "c51f337a",
   "metadata": {},
   "source": [
    "##### Example:-"
   ]
  },
  {
   "cell_type": "markdown",
   "id": "8a5ac02b",
   "metadata": {},
   "source": [
    "init.py <----Empty Python File"
   ]
  },
  {
   "cell_type": "markdown",
   "id": "19699fdc",
   "metadata": {},
   "source": [
    "### b.) re-use the package:-\n",
    "\n",
    "To the re-use the modules of the packages across the folders / drives / enviroments, we have to two approaches. They are\n",
    "\n",
    "i) By using sys module ii) by using PYTHONPATH Environmental Variable Name"
   ]
  },
  {
   "cell_type": "markdown",
   "id": "2cdb07e0",
   "metadata": {},
   "source": [
    "##### i) By using sys module:-\n",
    "\n",
    "Syntax:\n",
    "sys.path.append(\"Absolute Path of Package\")\n",
    "\n",
    "* sys is pre-defined module\n",
    "\n",
    "* path is a pre-defined object of list / variable present in sys module\n",
    "\n",
    "* append() is pre-defined function present in path and is used for locating the package name of python\n",
    "\n",
    "\n",
    "##### ii) By using PYTHONPATH Enviromental Variables:\n",
    "\n",
    "* PYTHONPATH is one of the Enviromental Variable\n",
    "\n",
    "* Search for Enviromental Variable\n",
    "\n",
    "* Steps for setting :\n",
    "\n",
    "         Var name  : PYTHONPATH       \n",
    "\t\t Var Value : C:\\\\Users\\\\master\\\\anaconda3\\\\python311.zip\n",
    "\n",
    "The overall path:\n",
    "\n",
    "\t\t\tPYTHONPATH= C:\\\\Users\\\\master\\\\anaconda3\\\\python311.zip"
   ]
  },
  {
   "cell_type": "markdown",
   "id": "ee23cf21",
   "metadata": {},
   "source": [
    "## Module\n",
    "\n",
    "##### We know that Functions are used for \"Performing Certain Operations and Provides Code Re-Usability within the same Program but not able to provide Code Re-Usability across the programs.\".\n",
    "\n",
    "##### The Purpose of Modules Concept is that \"To Re-use the functions, global variables and Class Names\" from One Program to another Program provided Both The Programs present in Same Folder."
   ]
  },
  {
   "cell_type": "markdown",
   "id": "0d01ad6e",
   "metadata": {},
   "source": [
    "#### Defination:- A Module is a collection of Functions, Global Variable Names and Class Names.\n",
    "\n",
    "##### Types of Modules:-\n",
    "\n",
    "In python, having two types of modules. They are\n",
    "\n",
    "##### 1. Pre-Defined Modules\n",
    "\n",
    "##### 2. Programmer Or User Or Custom Defined Modules"
   ]
  },
  {
   "cell_type": "markdown",
   "id": "be7be8b4",
   "metadata": {},
   "source": [
    "### 1. Pre-Defined Modules:-\n",
    "\n",
    "These Modules are already defined by Python Language Developers and available in Python Software and used by all Python Language Programmers and for dealing with Universal Requirements."
   ]
  },
  {
   "cell_type": "markdown",
   "id": "a88846e2",
   "metadata": {},
   "source": [
    "### 2. Programmer OR User OR Custom Defined Module:-\n",
    "\n",
    "These Moudles are developed by Python Programmers and avilable in Python Project and Used by Other Members of Same Project for dealing with Common Requirements."
   ]
  },
  {
   "cell_type": "markdown",
   "id": "b88914db",
   "metadata": {},
   "source": [
    "### Development of Programmer-Defined Module:-\n",
    "\n",
    "#### To develop Programmer-Defined Modules, we must use the following steps\n",
    "\n",
    "##### Step-1: Define Variables (Global variables)\n",
    "\n",
    "##### Step-2: Define Functions\n",
    "\n",
    "##### Step-3: Define Classes\n",
    "\n",
    "##### After developing step-1, step-2 and step-3 , we must save on some file name with an extension .py (FileName.py) and it is treated as module name.\n",
    "\n",
    "##### Hence Every Python File is treated as Module Name."
   ]
  }
 ],
 "metadata": {
  "kernelspec": {
   "display_name": "Python 3 (ipykernel)",
   "language": "python",
   "name": "python3"
  },
  "language_info": {
   "codemirror_mode": {
    "name": "ipython",
    "version": 3
   },
   "file_extension": ".py",
   "mimetype": "text/x-python",
   "name": "python",
   "nbconvert_exporter": "python",
   "pygments_lexer": "ipython3",
   "version": "3.11.5"
  }
 },
 "nbformat": 4,
 "nbformat_minor": 5
}
